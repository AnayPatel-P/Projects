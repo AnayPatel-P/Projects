{
 "cells": [
  {
   "cell_type": "markdown",
   "metadata": {},
   "source": [
    "# Algorithmic Trading System - Example Usage\n",
    "\n",
    "This notebook demonstrates how to use the algorithmic trading system for strategy development, backtesting, and analysis."
   ]
  },
  {
   "cell_type": "code",
   "execution_count": null,
   "metadata": {},
   "outputs": [],
   "source": [
    "import sys\n",
    "import os\n",
    "sys.path.append('..')\n",
    "\n",
    "import pandas as pd\n",
    "import numpy as np\n",
    "import matplotlib.pyplot as plt\n",
    "import warnings\n",
    "warnings.filterwarnings('ignore')\n",
    "\n",
    "# Import our modules\n",
    "from src.data.data_fetcher import DataFetcher\n",
    "from src.data.preprocessor import DataPreprocessor\n",
    "from src.strategies.moving_average_strategy import MovingAverageStrategy\n",
    "from src.strategies.rsi_strategy import RSIStrategy\n",
    "from src.strategies.macd_strategy import MACDStrategy\n",
    "from src.backtesting.backtest_engine import BacktestEngine\n",
    "from src.risk_management.risk_manager import RiskManager\n",
    "from src.visualization.visualizer import TradingVisualizer"
   ]
  },
  {
   "cell_type": "markdown",
   "metadata": {},
   "source": [
    "## 1. Data Fetching and Preprocessing"
   ]
  },
  {
   "cell_type": "code",
   "execution_count": null,
   "metadata": {},
   "outputs": [],
   "source": [
    "# Configuration\n",
    "SYMBOL = 'AAPL'\n",
    "START_DATE = '2022-01-01'\n",
    "END_DATE = '2023-12-31'\n",
    "INITIAL_CAPITAL = 100000\n",
    "\n",
    "# Fetch data\n",
    "data_fetcher = DataFetcher()\n",
    "market_data = data_fetcher.fetch_market_data([SYMBOL], START_DATE, END_DATE)\n",
    "\n",
    "# Display basic info\n",
    "if SYMBOL in market_data:\n",
    "    data = market_data[SYMBOL]\n",
    "    print(f\"Data shape: {data.shape}\")\n",
    "    print(f\"Date range: {data.index[0]} to {data.index[-1]}\")\n",
    "    print(f\"\\nFirst few rows:\")\n",
    "    display(data.head())\n",
    "else:\n",
    "    print(\"No data retrieved\")"
   ]
  },
  {
   "cell_type": "code",
   "execution_count": null,
   "metadata": {},
   "outputs": [],
   "source": [
    "# Preprocess data\n",
    "preprocessor = DataPreprocessor()\n",
    "processed_data = preprocessor.process_multiple_symbols(\n",
    "    market_data,\n",
    "    add_technical_indicators=True,\n",
    "    add_features=True\n",
    ")\n",
    "\n",
    "# Display processed data info\n",
    "processed = processed_data[SYMBOL]\n",
    "print(f\"Processed data shape: {processed.shape}\")\n",
    "print(f\"\\nTechnical indicators added:\")\n",
    "technical_cols = [col for col in processed.columns if col not in ['Open', 'High', 'Low', 'Close', 'Volume']]\n",
    "print(technical_cols[:10])  # Show first 10"
   ]
  },
  {
   "cell_type": "markdown",
   "metadata": {},
   "source": [
    "## 2. Strategy Development and Signal Generation"
   ]
  },
  {
   "cell_type": "code",
   "execution_count": null,
   "metadata": {},
   "outputs": [],
   "source": [
    "# Initialize strategies\n",
    "ma_strategy = MovingAverageStrategy(short_window=20, long_window=50)\n",
    "rsi_strategy = RSIStrategy(rsi_period=14, oversold_threshold=30, overbought_threshold=70)\n",
    "macd_strategy = MACDStrategy()\n",
    "\n",
    "# Set symbol attribute for signal generation\n",
    "symbol_data = processed_data[SYMBOL].copy()\n",
    "symbol_data.attrs['symbol'] = SYMBOL\n",
    "\n",
    "# Generate signals\n",
    "ma_signals = ma_strategy.generate_signals(symbol_data)\n",
    "rsi_signals = rsi_strategy.generate_signals(symbol_data)\n",
    "macd_signals = macd_strategy.generate_signals(symbol_data)\n",
    "\n",
    "print(f\"Moving Average signals: {len(ma_signals)}\")\n",
    "print(f\"RSI signals: {len(rsi_signals)}\")\n",
    "print(f\"MACD signals: {len(macd_signals)}\")\n",
    "\n",
    "# Display sample signals\n",
    "if ma_signals:\n",
    "    print(f\"\\nSample MA signal:\")\n",
    "    sample_signal = ma_signals[0]\n",
    "    print(f\"Date: {sample_signal.timestamp}\")\n",
    "    print(f\"Signal: {sample_signal.signal.name}\")\n",
    "    print(f\"Price: ${sample_signal.price:.2f}\")\n",
    "    print(f\"Confidence: {sample_signal.confidence:.2f}\")"
   ]
  },
  {
   "cell_type": "markdown",
   "metadata": {},
   "source": [
    "## 3. Backtesting"
   ]
  },
  {
   "cell_type": "code",
   "execution_count": null,
   "metadata": {},
   "outputs": [],
   "source": [
    "# Initialize backtest engine\n",
    "backtest_engine = BacktestEngine(initial_capital=INITIAL_CAPITAL)\n",
    "\n",
    "# Run backtests for each strategy\n",
    "strategies = {\n",
    "    'Moving Average': {SYMBOL: ma_signals},\n",
    "    'RSI': {SYMBOL: rsi_signals},\n",
    "    'MACD': {SYMBOL: macd_signals}\n",
    "}\n",
    "\n",
    "results = {}\n",
    "\n",
    "for strategy_name, signals in strategies.items():\n",
    "    print(f\"\\nBacktesting {strategy_name}...\")\n",
    "    \n",
    "    result = backtest_engine.run_backtest(\n",
    "        market_data=processed_data,\n",
    "        signals=signals,\n",
    "        start_date=START_DATE,\n",
    "        end_date=END_DATE\n",
    "    )\n",
    "    \n",
    "    results[strategy_name] = result\n",
    "    \n",
    "    # Print metrics\n",
    "    metrics = result.metrics\n",
    "    print(f\"Total Return: {metrics.get('Total_Return_Pct', 0):.2f}%\")\n",
    "    print(f\"Sharpe Ratio: {metrics.get('Sharpe_Ratio', 0):.2f}\")\n",
    "    print(f\"Max Drawdown: {metrics.get('Max_Drawdown_Pct', 0):.2f}%\")\n",
    "    print(f\"Win Rate: {metrics.get('Win_Rate_Pct', 0):.1f}%\")\n",
    "    print(f\"Total Trades: {metrics.get('Total_Trades', 0)}\")"
   ]
  },
  {
   "cell_type": "markdown",
   "metadata": {},
   "source": [
    "## 4. Performance Analysis"
   ]
  },
  {
   "cell_type": "code",
   "execution_count": null,
   "metadata": {},
   "outputs": [],
   "source": [
    "# Compare strategy performance\n",
    "performance_df = pd.DataFrame({\n",
    "    strategy_name: {\n",
    "        'Total Return (%)': result.metrics.get('Total_Return_Pct', 0),\n",
    "        'Sharpe Ratio': result.metrics.get('Sharpe_Ratio', 0),\n",
    "        'Max Drawdown (%)': result.metrics.get('Max_Drawdown_Pct', 0),\n",
    "        'Win Rate (%)': result.metrics.get('Win_Rate_Pct', 0),\n",
    "        'Total Trades': result.metrics.get('Total_Trades', 0),\n",
    "        'Profit Factor': result.metrics.get('Profit_Factor', 0)\n",
    "    }\n",
    "    for strategy_name, result in results.items()\n",
    "}).T\n",
    "\n",
    "print(\"Strategy Performance Comparison:\")\n",
    "display(performance_df.round(2))"
   ]
  },
  {
   "cell_type": "code",
   "execution_count": null,
   "metadata": {},
   "outputs": [],
   "source": [
    "# Plot portfolio values over time\n",
    "plt.figure(figsize=(12, 6))\n",
    "\n",
    "for strategy_name, result in results.items():\n",
    "    if not result.portfolio_values.empty:\n",
    "        portfolio_returns = (result.portfolio_values / INITIAL_CAPITAL - 1) * 100\n",
    "        plt.plot(portfolio_returns.index, portfolio_returns.values, \n",
    "                label=strategy_name, linewidth=2)\n",
    "\n",
    "# Add buy and hold benchmark\n",
    "benchmark_returns = (processed_data[SYMBOL]['Close'] / processed_data[SYMBOL]['Close'].iloc[0] - 1) * 100\n",
    "plt.plot(benchmark_returns.index, benchmark_returns.values, \n",
    "         label='Buy & Hold', linestyle='--', alpha=0.7)\n",
    "\n",
    "plt.title(f'Strategy Performance Comparison - {SYMBOL}')\n",
    "plt.xlabel('Date')\n",
    "plt.ylabel('Return (%)')\n",
    "plt.legend()\n",
    "plt.grid(True, alpha=0.3)\n",
    "plt.tight_layout()\n",
    "plt.show()"
   ]
  },
  {
   "cell_type": "markdown",
   "metadata": {},
   "source": [
    "## 5. Risk Analysis"
   ]
  },
  {
   "cell_type": "code",
   "execution_count": null,
   "metadata": {},
   "outputs": [],
   "source": [
    "# Risk analysis\n",
    "risk_manager = RiskManager()\n",
    "\n",
    "# Select best performing strategy for detailed risk analysis\n",
    "best_strategy = max(results.items(), \n",
    "                   key=lambda x: x[1].metrics.get('Total_Return_Pct', -999))\n",
    "\n",
    "strategy_name, result = best_strategy\n",
    "print(f\"Risk Analysis for Best Strategy: {strategy_name}\")\n",
    "print(\"=\" * 50)\n",
    "\n",
    "if not result.portfolio_values.empty:\n",
    "    # Calculate risk metrics\n",
    "    portfolio_returns = result.portfolio_values.pct_change().dropna()\n",
    "    \n",
    "    # Create position data for risk analysis\n",
    "    positions = {'Portfolio': result.portfolio_values.iloc[-1] - INITIAL_CAPITAL}\n",
    "    returns_data = {'Portfolio': portfolio_returns}\n",
    "    \n",
    "    risk_metrics = risk_manager.calculate_portfolio_risk(positions, returns_data)\n",
    "    risk_level = risk_manager.assess_risk_level(risk_metrics)\n",
    "    \n",
    "    print(f\"Risk Level: {risk_level.name}\")\n",
    "    print(f\"Value at Risk (95%): {risk_metrics.var_95:.4f}\")\n",
    "    print(f\"Conditional VaR (95%): {risk_metrics.cvar_95:.4f}\")\n",
    "    print(f\"Volatility: {risk_metrics.volatility:.4f}\")\n",
    "    print(f\"Beta: {risk_metrics.beta:.4f}\")\n",
    "    print(f\"Max Drawdown: {risk_metrics.max_drawdown:.4f}\")\n",
    "    \n",
    "    # Risk recommendations\n",
    "    risk_checks = risk_manager.check_risk_limits(positions, result.portfolio_values.iloc[-1], 0)\n",
    "    recommendations = risk_manager.generate_risk_recommendations(risk_metrics, risk_level, risk_checks)\n",
    "    \n",
    "    if recommendations:\n",
    "        print(\"\\nRisk Recommendations:\")\n",
    "        for rec in recommendations:\n",
    "            print(f\"• {rec}\")\n",
    "    else:\n",
    "        print(\"\\nNo specific risk recommendations.\")"
   ]
  },
  {
   "cell_type": "markdown",
   "metadata": {},
   "source": [
    "## 6. Trade Analysis"
   ]
  },
  {
   "cell_type": "code",
   "execution_count": null,
   "metadata": {},
   "outputs": [],
   "source": [
    "# Analyze individual trades\n",
    "trades_df = result.to_dataframe()\n",
    "\n",
    "if not trades_df.empty:\n",
    "    print(f\"Trade Analysis for {strategy_name}:\")\n",
    "    print(\"=\" * 40)\n",
    "    \n",
    "    # Basic trade statistics\n",
    "    winning_trades = trades_df[trades_df['PnL'] > 0]\n",
    "    losing_trades = trades_df[trades_df['PnL'] < 0]\n",
    "    \n",
    "    print(f\"Total Trades: {len(trades_df)}\")\n",
    "    print(f\"Winning Trades: {len(winning_trades)} ({len(winning_trades)/len(trades_df)*100:.1f}%)\")\n",
    "    print(f\"Losing Trades: {len(losing_trades)} ({len(losing_trades)/len(trades_df)*100:.1f}%)\")\n",
    "    print(f\"Average Win: ${winning_trades['PnL'].mean():.2f}\" if len(winning_trades) > 0 else \"Average Win: $0.00\")\n",
    "    print(f\"Average Loss: ${losing_trades['PnL'].mean():.2f}\" if len(losing_trades) > 0 else \"Average Loss: $0.00\")\n",
    "    print(f\"Largest Win: ${trades_df['PnL'].max():.2f}\")\n",
    "    print(f\"Largest Loss: ${trades_df['PnL'].min():.2f}\")\n",
    "    print(f\"Average Trade Duration: {trades_df['Duration_Days'].mean():.1f} days\")\n",
    "    \n",
    "    # Plot trade PnL distribution\n",
    "    plt.figure(figsize=(10, 4))\n",
    "    \n",
    "    plt.subplot(1, 2, 1)\n",
    "    plt.hist(trades_df['PnL'], bins=20, alpha=0.7, edgecolor='black')\n",
    "    plt.axvline(x=0, color='red', linestyle='--', alpha=0.7)\n",
    "    plt.title('Trade PnL Distribution')\n",
    "    plt.xlabel('PnL ($)')\n",
    "    plt.ylabel('Frequency')\n",
    "    \n",
    "    plt.subplot(1, 2, 2)\n",
    "    cumulative_pnl = trades_df['PnL'].cumsum()\n",
    "    plt.plot(range(len(cumulative_pnl)), cumulative_pnl, linewidth=2)\n",
    "    plt.title('Cumulative PnL')\n",
    "    plt.xlabel('Trade Number')\n",
    "    plt.ylabel('Cumulative PnL ($)')\n",
    "    plt.grid(True, alpha=0.3)\n",
    "    \n",
    "    plt.tight_layout()\n",
    "    plt.show()\n",
    "    \n",
    "    # Show recent trades\n",
    "    print(\"\\nRecent Trades:\")\n",
    "    display(trades_df.tail(10))\n",
    "else:\n",
    "    print(\"No trades to analyze.\")"
   ]
  },
  {
   "cell_type": "markdown",
   "metadata": {},
   "source": [
    "## 7. Strategy Optimization"
   ]
  },
  {
   "cell_type": "code",
   "execution_count": null,
   "metadata": {},
   "outputs": [],
   "source": [
    "# Parameter optimization example\n",
    "print(\"Optimizing Moving Average Strategy Parameters...\")\n",
    "\n",
    "# Define parameter ranges for optimization\n",
    "parameter_ranges = {\n",
    "    'short_window': [10, 15, 20, 25],\n",
    "    'long_window': [40, 50, 60, 70]\n",
    "}\n",
    "\n",
    "# Optimize parameters\n",
    "ma_strategy_opt = MovingAverageStrategy()\n",
    "best_params, best_score = ma_strategy_opt.optimize_parameters(\n",
    "    symbol_data,\n",
    "    parameter_ranges,\n",
    "    optimization_metric='sharpe_ratio'\n",
    ")\n",
    "\n",
    "print(f\"\\nBest Parameters: {best_params}\")\n",
    "print(f\"Best Sharpe Ratio: {best_score:.3f}\")\n",
    "\n",
    "# Compare with default parameters\n",
    "default_signals = MovingAverageStrategy().generate_signals(symbol_data)\n",
    "optimized_signals = ma_strategy_opt.generate_signals(symbol_data)\n",
    "\n",
    "print(f\"\\nSignal Comparison:\")\n",
    "print(f\"Default Strategy Signals: {len(default_signals)}\")\n",
    "print(f\"Optimized Strategy Signals: {len(optimized_signals)}\")"
   ]
  },
  {
   "cell_type": "markdown",
   "metadata": {},
   "source": [
    "## 8. Interactive Visualizations"
   ]
  },
  {
   "cell_type": "code",
   "execution_count": null,
   "metadata": {},
   "outputs": [],
   "source": [
    "# Create interactive visualizations\n",
    "visualizer = TradingVisualizer()\n",
    "\n",
    "# Price and signals chart\n",
    "if ma_signals:\n",
    "    # Convert signals to DataFrame for visualization\n",
    "    signal_df = pd.DataFrame([{\n",
    "        'Date': signal.timestamp,\n",
    "        'Signal': signal.signal.value,\n",
    "        'Price': signal.price\n",
    "    } for signal in ma_signals])\n",
    "    signal_df.set_index('Date', inplace=True)\n",
    "    \n",
    "    # Create price and signals chart\n",
    "    fig = visualizer.plot_price_and_signals(\n",
    "        processed_data[SYMBOL],\n",
    "        signal_df,\n",
    "        SYMBOL,\n",
    "        indicators=['SMA_20', 'SMA_50', 'RSI']\n",
    "    )\n",
    "    fig.show()\n",
    "\n",
    "# Portfolio performance chart\n",
    "if not result.portfolio_values.empty:\n",
    "    portfolio_fig = visualizer.plot_portfolio_performance(\n",
    "        result.portfolio_values,\n",
    "        benchmark=processed_data[SYMBOL]['Close'],\n",
    "        trades=trades_df\n",
    "    )\n",
    "    portfolio_fig.show()"
   ]
  },
  {
   "cell_type": "markdown",
   "metadata": {},
   "source": [
    "## 9. Summary and Next Steps"
   ]
  },
  {
   "cell_type": "code",
   "execution_count": null,
   "metadata": {},
   "outputs": [],
   "source": [
    "print(\"TRADING SYSTEM ANALYSIS SUMMARY\")\n",
    "print(\"=\" * 50)\n",
    "\n",
    "# Find best strategy\n",
    "best_strategy_name = max(results.items(), \n",
    "                        key=lambda x: x[1].metrics.get('Total_Return_Pct', -999))[0]\n",
    "best_metrics = results[best_strategy_name].metrics\n",
    "\n",
    "print(f\"Symbol Analyzed: {SYMBOL}\")\n",
    "print(f\"Analysis Period: {START_DATE} to {END_DATE}\")\n",
    "print(f\"Initial Capital: ${INITIAL_CAPITAL:,}\")\n",
    "print(f\"\\nBest Performing Strategy: {best_strategy_name}\")\n",
    "print(f\"Total Return: {best_metrics.get('Total_Return_Pct', 0):.2f}%\")\n",
    "print(f\"Sharpe Ratio: {best_metrics.get('Sharpe_Ratio', 0):.2f}\")\n",
    "print(f\"Max Drawdown: {best_metrics.get('Max_Drawdown_Pct', 0):.2f}%\")\n",
    "print(f\"Win Rate: {best_metrics.get('Win_Rate_Pct', 0):.1f}%\")\n",
    "print(f\"Total Trades: {best_metrics.get('Total_Trades', 0)}\")\n",
    "\n",
    "print(\"\\nNext Steps:\")\n",
    "print(\"• Experiment with different parameter combinations\")\n",
    "print(\"• Test on different time periods and market conditions\")\n",
    "print(\"• Implement ensemble methods combining multiple strategies\")\n",
    "print(\"• Add machine learning-based signal generation\")\n",
    "print(\"• Implement real-time trading capabilities\")\n",
    "print(\"• Add more sophisticated risk management rules\")"
   ]
  }
 ],
 "metadata": {
  "kernelspec": {
   "display_name": "Python 3",
   "language": "python",
   "name": "python3"
  },
  "language_info": {
   "codemirror_mode": {
    "name": "ipython",
    "version": 3
   },
   "file_extension": ".py",
   "mimetype": "text/x-python",
   "name": "python",
   "nbconvert_exporter": "python",
   "pygments_lexer": "ipython3",
   "version": "3.8.0"
  }
 },
 "nbformat": 4,
 "nbformat_minor": 4
}